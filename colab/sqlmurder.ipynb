{
  "cells": [
    {
      "cell_type": "markdown",
      "metadata": {
        "id": "view-in-github",
        "colab_type": "text"
      },
      "source": [
        "<a href=\"https://colab.research.google.com/github/sgalsant/basedatos/blob/main/colab/sqlmurder.ipynb\" target=\"_parent\"><img src=\"https://colab.research.google.com/assets/colab-badge.svg\" alt=\"Open In Colab\"/></a>"
      ]
    },
    {
      "cell_type": "markdown",
      "metadata": {
        "id": "-0666m8dP1IC"
      },
      "source": [
        "#Resolver un crimen en SQL City\n",
        "\n",
        "Ejercicio para practicar el uso de SQL mientras se resuelve un crimen. Debes buscar la información necesaria en la base de datos\n",
        "\n",
        "Nombre de los alumnos/as del grupo de investigación:\n",
        "1. alumno/a 1\n",
        "2. alumno/a 2\n"
      ]
    },
    {
      "cell_type": "code",
      "execution_count": null,
      "metadata": {
        "id": "QVkTU4WYQRhh",
        "cellView": "form"
      },
      "outputs": [],
      "source": [
        "#@title Inicializar\n",
        "\n",
        "urlRepositorio = 'https://github.com/sgalsant/sqlmurder.git'\n",
        "database = 'sqlmurder'\n",
        "\n",
        "\n",
        "pathDB = '/content/' + database\n",
        "\n",
        "!rm {pathDB} -r\n",
        "!git clone {urlRepositorio} {pathDB}\n",
        "\n",
        "!chmod -R 777 {pathDB}\n",
        "\n",
        "!pip install sqlalchemy==2.0.28\n",
        "\n",
        "import sqlalchemy\n",
        "sqlalchemy.__version__\n",
        "\n",
        "#%env DATABASE_URL= 'sqlite:/{pathDB}/sql-murder-mystery.db'\n",
        "\n",
        "\n",
        "%reload_ext sql\n",
        "%sql sqlite:///{pathDB}/sql-murder-mystery.db\n",
        "%sql SELECT sqlite_version();\n",
        "\n",
        "from IPython.display import Image, display\n",
        "display(Image(pathDB + '/portada.png'))\n",
        "display(Image(pathDB + '/schema-sqlmurder.png'))\n"
      ]
    },
    {
      "cell_type": "markdown",
      "metadata": {
        "id": "0oM-JO2PSyLg"
      },
      "source": [
        "#Investiga\n",
        "Se ha cometido un crimen y conociendo tu fama por tus increibles conocimientos de SQL se te ha pedido ayuda. El detective te ha dado un informe de la escena del crimen, pero como siempre lo has perdido. Recuerdas algo de que el crimen fue un asesinato ocurrido el 15 de enero de 2018 y que tuvo lugar en \"SQL City\".\n",
        "\n",
        "Tú primer objetivo es recuperar el informe del crimen de la base de datos de la polícia. Luego debes ir encadenando las pistas hasta descubrir quién está detrás de este asesinato.\n",
        "\n",
        "Contamos contigo....\n"
      ]
    },
    {
      "cell_type": "code",
      "source": [
        "#@title Sentencia SQL para saber que tablas existen\n",
        "%%sql\n",
        "SELECT name\n",
        "  FROM sqlite_master\n",
        " where type = 'table'"
      ],
      "metadata": {
        "id": "AJBHK0TnUTGJ"
      },
      "execution_count": null,
      "outputs": []
    },
    {
      "cell_type": "code",
      "source": [
        "#@title Sentencia SQL para ver la estructura de una tabla. Sustituye \"nombre_tabla\" por el nombre de la tabla que quieres ver\n",
        "%%sql\n",
        "SELECT sql\n",
        "FROM sqlite_master\n",
        " where name = 'nombre_tabla'"
      ],
      "metadata": {
        "id": "iuLd3Dx2VF86"
      },
      "execution_count": null,
      "outputs": []
    },
    {
      "cell_type": "code",
      "execution_count": null,
      "metadata": {
        "id": "oBvvLO93Pv9W"
      },
      "outputs": [],
      "source": [
        "#@title Para verificar si la solución es correcta, sustituye \"sospechoso\" por el nombre del sospechoso del asesinato\n",
        "%%sql\n",
        "delete from solution;\n",
        "\n",
        "INSERT INTO solution VALUES (1, 'sospechoso');\n",
        "SELECT value FROM solution;"
      ]
    },
    {
      "cell_type": "code",
      "execution_count": null,
      "metadata": {
        "id": "EZyHw8HZcUs4"
      },
      "outputs": [],
      "source": [
        "#@title paso 1: desribe paso a paso como consiguierón resolver este asesinato. Ya sabes, lo primero es recuperar el informe del crimen\n",
        "%%sql\n",
        "select * from crime_scene_report"
      ]
    }
  ],
  "metadata": {
    "colab": {
      "provenance": [],
      "authorship_tag": "ABX9TyOAv5ITCE+oe2mv8aXu5MeY",
      "include_colab_link": true
    },
    "kernelspec": {
      "display_name": "Python 3",
      "name": "python3"
    },
    "language_info": {
      "name": "python"
    }
  },
  "nbformat": 4,
  "nbformat_minor": 0
}